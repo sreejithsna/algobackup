{
 "cells": [
  {
   "cell_type": "markdown",
   "metadata": {},
   "source": [
    "Create new DB"
   ]
  },
  {
   "cell_type": "markdown",
   "metadata": {},
   "source": [
    "Create new User - DHAN, Give UNLIMITED QUOTA, Enable Web Access, Give Connect and Resource Role"
   ]
  },
  {
   "cell_type": "markdown",
   "metadata": {},
   "source": [
    "Export Apex app from Old\n",
    "Export dump from old DB"
   ]
  },
  {
   "cell_type": "code",
   "execution_count": null,
   "metadata": {
    "vscode": {
     "languageId": "sql"
    }
   },
   "outputs": [],
   "source": [
    "expdp userid=dhan/Welcome12345#@ssn1 FILE=DHAN_expdp_1402.dmp DIRECTORY=data_pump_dir"
   ]
  },
  {
   "cell_type": "markdown",
   "metadata": {},
   "source": [
    "Put dump in bucket from OLD DB"
   ]
  },
  {
   "cell_type": "code",
   "execution_count": null,
   "metadata": {
    "vscode": {
     "languageId": "oraclesql"
    }
   },
   "outputs": [],
   "source": [
    "DECLARE\n",
    "my_blob_data BLOB;\n",
    "BEGIN \n",
    "DBMS_CLOUD.PUT_OBJECT(credential_name => 'SSN_CRED2',\n",
    "object_uri => 'https://objectstorage.ap-hyderabad-1.oraclecloud.com/p/7lO-9rI8x4rDhIk9K6Oup50XN73A_0AeZzQpK8VEQl0CZh34aOsun6_2xqUM6ETT/n/axdpselyzomz/b/bucket-20231222-0929/o/SSNO.dmp',\n",
    "     contents => my_blob_data); \n",
    "END;\n",
    " "
   ]
  },
  {
   "cell_type": "markdown",
   "metadata": {},
   "source": [
    "Create Credential in new DB"
   ]
  },
  {
   "cell_type": "code",
   "execution_count": null,
   "metadata": {
    "vscode": {
     "languageId": "oraclesql"
    }
   },
   "outputs": [],
   "source": [
    "begin\n",
    "  DBMS_CLOUD.create_credential(\n",
    "    credential_name => 'SSN_CRED2',\n",
    "    username        => 'sreejithsna@gmail.com',\n",
    "    password        => 'Amos@123');\n",
    "end;\n",
    "/"
   ]
  },
  {
   "cell_type": "markdown",
   "metadata": {},
   "source": [
    "Create Preauthenticated URL for Dump from GCS Bucket - bucket-SSN1\n",
    "\n",
    "Provide this URL in the import command"
   ]
  },
  {
   "cell_type": "markdown",
   "metadata": {},
   "source": [
    "Import Dump "
   ]
  },
  {
   "cell_type": "code",
   "execution_count": null,
   "metadata": {
    "vscode": {
     "languageId": "oraclesql"
    }
   },
   "outputs": [],
   "source": [
    "DECLARE\n",
    "    -- replace with your values\n",
    "    exported_schema VARCHAR2(64)  := 'DHAN';\n",
    "    import_schema   VARCHAR2(64)  := 'DHAN'; -- in case you want to remap schema\n",
    "    data_pump_dir   VARCHAR2(64)  := 'DATA_PUMP_DIR';\n",
    "    dump_file_name  VARCHAR2(256) := 'https://objectstorage.ap-mumbai-1.oraclecloud.com/p/0BcHReOzTpYdkWSMuqx9Upm--d1Aq7nNLHeYZMETjdMwTC7dXTy7aaAAxBIB8IH6/n/bmiyb53g43ha/b/bucket-SSN1/o/DHAN_expdp_1402.dmp';\n",
    "    credential_name VARCHAR2(64)  := 'SSN_CRED1';\n",
    "    parallel        NUMBER        := 4;\n",
    " \n",
    "    job_handle      NUMBER;\n",
    "    job_name        VARCHAR2(64);\n",
    "    job_status      VARCHAR2(128);\n",
    "    output_message  VARCHAR2(1024);\n",
    "BEGIN\n",
    "    job_name := dbms_scheduler.generate_job_name('import');\n",
    "    job_handle := dbms_datapump.open(operation => 'IMPORT', job_mode => 'SCHEMA', job_name => job_name); \n",
    "    dbms_datapump.add_file(handle => job_handle, filename => dump_file_name, directory => credential_name, filetype => dbms_datapump.ku$_file_type_uridump_file); \n",
    "    dbms_datapump.add_file(handle => job_handle, filename => import_schema || '_import1.log', directory => data_pump_dir, filetype => 3);\n",
    "    dbms_datapump.metadata_remap(job_handle, 'REMAP_SCHEMA', exported_schema, import_schema);\n",
    "    dbms_datapump.metadata_filter(handle => job_handle, name => 'SCHEMA_EXPR', value => 'IN(''' || exported_schema || ''')');\n",
    "    dbms_datapump.set_parallel(handle => job_handle, degree => parallel);\n",
    "    dbms_datapump.start_job(handle => job_handle, skip_current => 0, abort_step => 0); \n",
    "    dbms_datapump.wait_for_job(handle => job_handle, job_state => job_status);\n",
    "    output_message := 'Data Pump Import Execution: ''' || job_status || '''';\n",
    "    dbms_output.put_line(output_message);\n",
    "END;\n",
    "/"
   ]
  },
  {
   "cell_type": "markdown",
   "metadata": {},
   "source": [
    "Configure Apex pointing to DHAN\n",
    "Create Workspace\n",
    "Import Apex Application to new Workspace "
   ]
  },
  {
   "cell_type": "markdown",
   "metadata": {},
   "source": [
    "Update TNS in OCI Instance with new connect description\n",
    "Download Wallet\n",
    "Copy .sso file to OCI Instance /home/opc/instantclient_19_15/network/admin\n",
    "    scp -i ssh-key-2022-06-22.key  Wallet_SSN2/cwallet.sso opc@140.238.255.42:/home/opc/instantclient_19_15/network/admin\n",
    "\n",
    "Start Application\n"
   ]
  },
  {
   "cell_type": "code",
   "execution_count": null,
   "metadata": {
    "vscode": {
     "languageId": "plaintext"
    }
   },
   "outputs": [],
   "source": [
    "DECLARE\n",
    "TYPE ty_object IS TABLE OF VARCHAR2(4000) INDEX BY BINARY_INTEGER; \n",
    "tab_object ty_object;\n",
    "\n",
    "BEGIN\n",
    "\n",
    "     \n",
    "                        SELECT 'drop ' || object_type || ' ' ||owner||'.\"' || object_name ||'\"' ||DECODE( object_type,'TABLE',\n",
    "                                ' CASCADE CONSTRAINTS PURGE',NULL) BULK COLLECT\n",
    "                        INTO tab_object\n",
    "                        FROM all_objects\n",
    "                        WHERE object_type NOT IN ('INDEX','JAVA CLASS','TYPE','TABLE PARTITION', 'LOB', 'PACKAGE BODY')\n",
    "                                AND owner NOT  IN ( 'SYS','SYSTEM')\n",
    "                                --AND 1=2\n",
    "                                AND owner = 'DHAN';\n",
    "\n",
    "                        FOR i IN 1 .. tab_object.COUNT\n",
    "                        LOOP\n",
    "                                BEGIN\n",
    "                                    --DBMS_OUTPUT.PUT_LINE( tab_object(i));\n",
    "                                        EXECUTE IMMEDIATE tab_object(i);\n",
    "\n",
    "                                EXCEPTION\n",
    "\n",
    "                                WHEN OTHERS THEN\n",
    "                                        NULL;\n",
    "\n",
    "                                END;\n",
    "\n",
    "                        END LOOP;\n",
    "                        tab_object.delete;\n",
    "\n",
    "                END;\n",
    "\n",
    "END;\n",
    "/"
   ]
  }
 ],
 "metadata": {
  "language_info": {
   "name": "python"
  },
  "orig_nbformat": 4
 },
 "nbformat": 4,
 "nbformat_minor": 2
}
